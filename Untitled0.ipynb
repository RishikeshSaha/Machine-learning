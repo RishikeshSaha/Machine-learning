{
  "nbformat": 4,
  "nbformat_minor": 0,
  "metadata": {
    "colab": {
      "name": "Untitled0.ipynb",
      "provenance": [],
      "authorship_tag": "ABX9TyOpV6SsZ1Lp9g+z7GtlcXvS",
      "include_colab_link": true
    },
    "kernelspec": {
      "name": "python3",
      "display_name": "Python 3"
    },
    "language_info": {
      "name": "python"
    }
  },
  "cells": [
    {
      "cell_type": "markdown",
      "metadata": {
        "id": "view-in-github",
        "colab_type": "text"
      },
      "source": [
        "<a href=\"https://colab.research.google.com/github/RishikeshSaha/Machine-learning/blob/main/Untitled0.ipynb\" target=\"_parent\"><img src=\"https://colab.research.google.com/assets/colab-badge.svg\" alt=\"Open In Colab\"/></a>"
      ]
    },
    {
      "cell_type": "code",
      "execution_count": null,
      "metadata": {
        "colab": {
          "base_uri": "https://localhost:8080/"
        },
        "id": "PzbFlarEQQG5",
        "outputId": "1832018e-28c8-4797-efb8-645cdbaf96e8"
      },
      "outputs": [
        {
          "output_type": "stream",
          "name": "stdout",
          "text": [
            "13\n",
            "['my', 'name', 'is', 'rishi']\n",
            "4\n"
          ]
        }
      ],
      "source": [
        "# count the numbers of letters\n",
        "\n",
        "sentence = \"my name is rishi\"\n",
        "\n",
        "l = [i for i in sentence if i!=' ']\n",
        "print(len(l))\n",
        "\n",
        "space = sentence.split()\n",
        "print(space)\n",
        "\n",
        "\n",
        "l0=[i for i in sentence.split()]\n",
        "print(len(l0))\n"
      ]
    },
    {
      "cell_type": "code",
      "source": [
        "# count the number of word which are not alpha numaric\n",
        "\n",
        "s =\"This is CSIT 1984\"\n",
        "\n",
        "l=[ i for i in s.split() if i.isalpha()]\n",
        "print(len(l))\n",
        "\n",
        "\n",
        "\n",
        "# print the letters having character greater then 4\n",
        "\n",
        "s =\"This is CSIT 1984\"\n",
        "\n",
        "l=[ i for i in s.split() if i.isalpha() and len(i)>=4]\n",
        "print(len(l))\n",
        "\n"
      ],
      "metadata": {
        "colab": {
          "base_uri": "https://localhost:8080/"
        },
        "id": "9p5W7E5DRKAD",
        "outputId": "16299320-f961-4bec-9682-9e7974573c53"
      },
      "execution_count": null,
      "outputs": [
        {
          "output_type": "stream",
          "name": "stdout",
          "text": [
            "3\n",
            "2\n"
          ]
        }
      ]
    },
    {
      "cell_type": "code",
      "source": [
        "# use a nested list comperiansion to find all the numbers on range 1 to 100 that are divisible by any number by 2 to 9\n",
        "\n",
        "l= [i for j in range (2,10) for i in range (-100,+100) if i%j==0 ]\n",
        "print(l)\n",
        "\n",
        "\n",
        "\n",
        "\n",
        "\n"
      ],
      "metadata": {
        "colab": {
          "base_uri": "https://localhost:8080/"
        },
        "id": "eUUIyBGVSHkt",
        "outputId": "032e5fa6-85b4-4f72-cd2b-8a20107ee776"
      },
      "execution_count": null,
      "outputs": [
        {
          "output_type": "stream",
          "name": "stdout",
          "text": [
            "[-100, -98, -96, -94, -92, -90, -88, -86, -84, -82, -80, -78, -76, -74, -72, -70, -68, -66, -64, -62, -60, -58, -56, -54, -52, -50, -48, -46, -44, -42, -40, -38, -36, -34, -32, -30, -28, -26, -24, -22, -20, -18, -16, -14, -12, -10, -8, -6, -4, -2, 0, 2, 4, 6, 8, 10, 12, 14, 16, 18, 20, 22, 24, 26, 28, 30, 32, 34, 36, 38, 40, 42, 44, 46, 48, 50, 52, 54, 56, 58, 60, 62, 64, 66, 68, 70, 72, 74, 76, 78, 80, 82, 84, 86, 88, 90, 92, 94, 96, 98, -99, -96, -93, -90, -87, -84, -81, -78, -75, -72, -69, -66, -63, -60, -57, -54, -51, -48, -45, -42, -39, -36, -33, -30, -27, -24, -21, -18, -15, -12, -9, -6, -3, 0, 3, 6, 9, 12, 15, 18, 21, 24, 27, 30, 33, 36, 39, 42, 45, 48, 51, 54, 57, 60, 63, 66, 69, 72, 75, 78, 81, 84, 87, 90, 93, 96, 99, -100, -96, -92, -88, -84, -80, -76, -72, -68, -64, -60, -56, -52, -48, -44, -40, -36, -32, -28, -24, -20, -16, -12, -8, -4, 0, 4, 8, 12, 16, 20, 24, 28, 32, 36, 40, 44, 48, 52, 56, 60, 64, 68, 72, 76, 80, 84, 88, 92, 96, -100, -95, -90, -85, -80, -75, -70, -65, -60, -55, -50, -45, -40, -35, -30, -25, -20, -15, -10, -5, 0, 5, 10, 15, 20, 25, 30, 35, 40, 45, 50, 55, 60, 65, 70, 75, 80, 85, 90, 95, -96, -90, -84, -78, -72, -66, -60, -54, -48, -42, -36, -30, -24, -18, -12, -6, 0, 6, 12, 18, 24, 30, 36, 42, 48, 54, 60, 66, 72, 78, 84, 90, 96, -98, -91, -84, -77, -70, -63, -56, -49, -42, -35, -28, -21, -14, -7, 0, 7, 14, 21, 28, 35, 42, 49, 56, 63, 70, 77, 84, 91, 98, -96, -88, -80, -72, -64, -56, -48, -40, -32, -24, -16, -8, 0, 8, 16, 24, 32, 40, 48, 56, 64, 72, 80, 88, 96, -99, -90, -81, -72, -63, -54, -45, -36, -27, -18, -9, 0, 9, 18, 27, 36, 45, 54, 63, 72, 81, 90, 99]\n"
          ]
        }
      ]
    },
    {
      "cell_type": "code",
      "source": [
        "# get the index and values as a tuple for item in the list\n",
        "\n",
        "items = ['Hi' , 1.29 , 3 , 4,(0.1,'hi')]\n",
        "\n",
        "l=[(index,value) for index,value in enumerate(items)]\n",
        "print(l)"
      ],
      "metadata": {
        "id": "fJdoaLprUmwE",
        "colab": {
          "base_uri": "https://localhost:8080/"
        },
        "outputId": "6e027aca-9829-496a-f7bf-d1aa0b7d791d"
      },
      "execution_count": 14,
      "outputs": [
        {
          "output_type": "stream",
          "name": "stdout",
          "text": [
            "[(0, 'Hi'), (1, 1.29), (2, 3), (3, 4), (4, (0.1, 'hi'))]\n"
          ]
        }
      ]
    },
    {
      "cell_type": "code",
      "source": [
        " for i in range(0,len(items)-1):\n",
        "   t = (i,items[0])\n",
        "   print(t)"
      ],
      "metadata": {
        "colab": {
          "base_uri": "https://localhost:8080/"
        },
        "id": "75ouBQjXaPnU",
        "outputId": "959233cf-b1fa-4ca0-b848-58475d30d0d8"
      },
      "execution_count": 15,
      "outputs": [
        {
          "output_type": "stream",
          "name": "stdout",
          "text": [
            "(0, 'Hi')\n",
            "(1, 'Hi')\n",
            "(2, 'Hi')\n",
            "(3, 'Hi')\n"
          ]
        }
      ]
    },
    {
      "cell_type": "code",
      "source": [
        "# find the common number using list comprehension\n",
        "\n",
        "l1=[1,2,3,4,5]\n",
        "l2=[1,2,3,4,5,6,7,8,9]\n",
        "\n",
        "l=[ i for i in l1 if(i in l2)]\n",
        "\n",
        "print(l)\n",
        "l0 = [i for i in l1 for j in l2 if i==j]\n",
        "print(l0)"
      ],
      "metadata": {
        "colab": {
          "base_uri": "https://localhost:8080/"
        },
        "id": "f7JCCKAGa-dD",
        "outputId": "6c16c1f2-9a34-49f5-a319-3a3c8950490e"
      },
      "execution_count": 16,
      "outputs": [
        {
          "output_type": "stream",
          "name": "stdout",
          "text": [
            "[1, 2, 3, 4, 5]\n",
            "[1, 2, 3, 4, 5]\n"
          ]
        }
      ]
    },
    {
      "cell_type": "code",
      "source": [
        ""
      ],
      "metadata": {
        "id": "A9hAGhyobjpz"
      },
      "execution_count": null,
      "outputs": []
    }
  ]
}